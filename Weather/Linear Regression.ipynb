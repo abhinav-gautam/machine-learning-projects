{
 "cells": [
  {
   "cell_type": "code",
   "execution_count": 1,
   "metadata": {},
   "outputs": [
    {
     "name": "stdout",
     "output_type": "stream",
     "text": [
      "(366, 22)\n",
      "          MinTemp     MaxTemp    Rainfall  Evaporation    Sunshine  \\\n",
      "count  366.000000  366.000000  366.000000   366.000000  363.000000   \n",
      "mean     7.265574   20.550273    1.428415     4.521858    7.909366   \n",
      "std      6.025800    6.690516    4.225800     2.669383    3.481517   \n",
      "min     -5.300000    7.600000    0.000000     0.200000    0.000000   \n",
      "25%      2.300000   15.025000    0.000000     2.200000    5.950000   \n",
      "50%      7.450000   19.650000    0.000000     4.200000    8.600000   \n",
      "75%     12.500000   25.500000    0.200000     6.400000   10.500000   \n",
      "max     20.900000   35.800000   39.800000    13.800000   13.600000   \n",
      "\n",
      "       WindGustSpeed  WindSpeed9am  WindSpeed3pm  Humidity9am  Humidity3pm  \\\n",
      "count     364.000000    359.000000    366.000000   366.000000   366.000000   \n",
      "mean       39.840659      9.651811     17.986339    72.035519    44.519126   \n",
      "std        13.059807      7.951929      8.856997    13.137058    16.850947   \n",
      "min        13.000000      0.000000      0.000000    36.000000    13.000000   \n",
      "25%        31.000000      6.000000     11.000000    64.000000    32.250000   \n",
      "50%        39.000000      7.000000     17.000000    72.000000    43.000000   \n",
      "75%        46.000000     13.000000     24.000000    81.000000    55.000000   \n",
      "max        98.000000     41.000000     52.000000    99.000000    96.000000   \n",
      "\n",
      "       Pressure9am  Pressure3pm    Cloud9am    Cloud3pm     Temp9am  \\\n",
      "count   366.000000   366.000000  366.000000  366.000000  366.000000   \n",
      "mean   1019.709016  1016.810383    3.890710    4.024590   12.358470   \n",
      "std       6.686212     6.469422    2.956131    2.666268    5.630832   \n",
      "min     996.500000   996.800000    0.000000    0.000000    0.100000   \n",
      "25%    1015.350000  1012.800000    1.000000    1.000000    7.625000   \n",
      "50%    1020.150000  1017.400000    3.500000    4.000000   12.550000   \n",
      "75%    1024.475000  1021.475000    7.000000    7.000000   17.000000   \n",
      "max    1035.700000  1033.200000    8.000000    8.000000   24.700000   \n",
      "\n",
      "          Temp3pm     RISK_MM  \n",
      "count  366.000000  366.000000  \n",
      "mean    19.230874    1.428415  \n",
      "std      6.640346    4.225800  \n",
      "min      5.100000    0.000000  \n",
      "25%     14.150000    0.000000  \n",
      "50%     18.550000    0.000000  \n",
      "75%     24.000000    0.200000  \n",
      "max     34.500000   39.800000  \n",
      "Intercept [14.56202411]\n",
      "Coefficient [[0.81953755]]\n",
      "    Actual  Predicted\n",
      "0     25.2  23.413030\n",
      "1     11.5  13.086857\n",
      "2     21.1  27.264856\n",
      "3     22.2  25.461874\n",
      "4     20.4  26.937041\n",
      "5     26.1  20.052926\n",
      "6     34.9  29.313700\n",
      "7     16.7  13.824440\n",
      "8     14.3  17.430406\n",
      "9     18.2  19.561203\n",
      "10    18.4  20.872463\n",
      "11    14.8  25.216012\n",
      "12    11.6  16.446960\n",
      "13    12.2  16.446960\n",
      "14    17.3  13.332718\n",
      "15    17.5  16.365007\n",
      "16    14.1  16.528914\n",
      "17    23.1  22.019816\n",
      "18    16.3  20.626602\n",
      "19    29.3  23.986706\n",
      "20    19.6  24.068660\n",
      "21    14.1  18.086036\n",
      "22    35.0  27.182902\n",
      "23    14.0  14.562024\n",
      "24    16.2  14.398117\n",
      "25    11.1  12.431226\n",
      "26    30.3  28.084394\n",
      "27    24.3  26.363365\n",
      "28    28.6  24.970151\n",
      "29    20.9  15.791330\n",
      "..     ...        ...\n",
      "44    33.4  27.100949\n",
      "45    14.8  17.922128\n",
      "46    14.0  15.053747\n",
      "47    15.7  18.331897\n",
      "48    14.8  13.332718\n",
      "49    27.5  24.478428\n",
      "50    18.9  19.151434\n",
      "51    14.5  18.086036\n",
      "52    12.9  15.299608\n",
      "53    19.8  20.380741\n",
      "54    23.8  27.674625\n",
      "55    26.3  22.593492\n",
      "56    20.4  22.101770\n",
      "57    35.2  25.871642\n",
      "58    33.9  29.231746\n",
      "59    33.2  29.231746\n",
      "60    21.9  17.184544\n",
      "61    10.7  13.250764\n",
      "62    17.0  21.364186\n",
      "63    20.9  23.085215\n",
      "64    16.2  20.954417\n",
      "65    20.0  14.971793\n",
      "66    26.7  26.281411\n",
      "67    24.4  20.626602\n",
      "68    15.5  14.398117\n",
      "69    18.9  20.216833\n",
      "70    22.8  27.674625\n",
      "71    16.1  21.446140\n",
      "72    25.1  24.970151\n",
      "73    12.2  14.070302\n",
      "\n",
      "[74 rows x 2 columns]\n"
     ]
    },
    {
     "data": {
      "text/plain": [
       "<Figure size 640x480 with 1 Axes>"
      ]
     },
     "metadata": {},
     "output_type": "display_data"
    },
    {
     "data": {
      "text/plain": [
       "<Figure size 1000x1500 with 1 Axes>"
      ]
     },
     "metadata": {},
     "output_type": "display_data"
    },
    {
     "data": {
      "text/plain": [
       "<Figure size 1600x1000 with 1 Axes>"
      ]
     },
     "metadata": {},
     "output_type": "display_data"
    },
    {
     "data": {
      "text/plain": [
       "<Figure size 640x480 with 1 Axes>"
      ]
     },
     "metadata": {},
     "output_type": "display_data"
    },
    {
     "name": "stdout",
     "output_type": "stream",
     "text": [
      "Mean Absolute Error: 3.5094353112899594\n",
      "Mean Squared Error: 17.011877668640622\n",
      "Root Mean Squared Error: 4.124545753006096\n"
     ]
    }
   ],
   "source": [
    "# -*- coding: utf-8 -*-\n",
    "\"\"\"\n",
    "Created on Tue Sep 10 18:35:13 2019\n",
    "\n",
    "@author: abhinav\n",
    "\"\"\"\n",
    "#Linear Regression Model\n",
    "\n",
    "import pandas as pd\n",
    "import numpy as np\n",
    "import matplotlib.pyplot as plt\n",
    "import seaborn as seabornInstance\n",
    "from sklearn.model_selection import train_test_split\n",
    "from sklearn.linear_model import LinearRegression\n",
    "from sklearn import metrics\n",
    "\n",
    "dataset = pd.read_csv('weather.csv')\n",
    "print (dataset.shape)\n",
    "print (dataset.describe())\n",
    "\n",
    "dataset.plot(x='MinTemp', y='MaxTemp',style='o')\n",
    "plt.title('MinTemp vs MaxTemp')\n",
    "plt.xlabel('MinTemp')\n",
    "plt.ylabel('MaxTemp')\n",
    "\n",
    "#Average of MaxTemp\n",
    "plt.figure(figsize=(10,15))\n",
    "plt.tight_layout()\n",
    "seabornInstance.distplot(dataset['MaxTemp'])\n",
    "\n",
    "\n",
    "#Data Splicing\n",
    "X = dataset['MinTemp'].values.reshape(-1,1)\n",
    "y = dataset['MaxTemp'].values.reshape(-1,1)\n",
    "\n",
    "X_train,X_test,y_train,y_test = train_test_split(X,y,test_size=0.2,random_state=0)\n",
    "\n",
    "#Training the Model\n",
    "regressor = LinearRegression()\n",
    "regressor.fit(X_train,y_train)\n",
    "\n",
    "#Intercept and Coefficient\n",
    "print ('Intercept',regressor.intercept_)\n",
    "print ('Coefficient',regressor.coef_)\n",
    "\n",
    "#Predicting for X_test\n",
    "y_pred = regressor.predict(X_test)\n",
    "\n",
    "#Comparison Between Actual and Predicted\n",
    "df = pd.DataFrame({'Actual':y_test.flatten(),'Predicted':y_pred.flatten()})\n",
    "#df.to_excel('LinearRegressionResult.xlsx',sheet_name='Actual and Predicted')\n",
    "print (df)\n",
    "\n",
    "df1=df.head(25)\n",
    "df1.plot(kind='bar',figsize=(16,10))\n",
    "plt.grid(which='major',linestyle='-',linewidth='0.5', color='green')\n",
    "plt.grid(which='minor',linestyle=':',linewidth='0.5', color='black')\n",
    "plt.show()\n",
    "\n",
    "plt.scatter(X_test,y_test,color='grey')\n",
    "plt.plot(X_test,y_pred,linewidth=2)\n",
    "plt.show()\n",
    "\n",
    "#Performance\n",
    "print(\"Mean Absolute Error:\",metrics.mean_absolute_error(y_test,y_pred))\n",
    "print(\"Mean Squared Error:\",metrics.mean_squared_error(y_test,y_pred))\n",
    "print(\"Root Mean Squared Error:\",np.sqrt(metrics.mean_squared_error(y_test,y_pred)))"
   ]
  },
  {
   "cell_type": "code",
   "execution_count": 2,
   "metadata": {},
   "outputs": [],
   "source": [
    "import pickle"
   ]
  },
  {
   "cell_type": "code",
   "execution_count": 5,
   "metadata": {},
   "outputs": [],
   "source": [
    "pickle.dump(regressor, open('final_prediction.pickle', 'wb'))"
   ]
  },
  {
   "cell_type": "code",
   "execution_count": null,
   "metadata": {},
   "outputs": [],
   "source": []
  }
 ],
 "metadata": {
  "kernelspec": {
   "display_name": "Python 3",
   "language": "python",
   "name": "python3"
  },
  "language_info": {
   "codemirror_mode": {
    "name": "ipython",
    "version": 3
   },
   "file_extension": ".py",
   "mimetype": "text/x-python",
   "name": "python",
   "nbconvert_exporter": "python",
   "pygments_lexer": "ipython3",
   "version": "3.6.5"
  }
 },
 "nbformat": 4,
 "nbformat_minor": 2
}
