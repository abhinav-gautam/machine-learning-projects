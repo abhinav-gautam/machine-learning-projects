{
 "cells": [
  {
   "cell_type": "markdown",
   "metadata": {},
   "source": [
    "# Chess (King-Rook vs. King) Dataset\n",
    "\n",
    "Dataset - https://www.kaggle.com/datasets/abhinavgautam/chess-king-rook-vs-king-data-set/\n"
   ]
  },
  {
   "cell_type": "code",
   "execution_count": null,
   "metadata": {},
   "outputs": [],
   "source": [
    "import numpy as np\n",
    "import pandas as pd"
   ]
  },
  {
   "cell_type": "code",
   "execution_count": 16,
   "metadata": {},
   "outputs": [
    {
     "data": {
      "text/html": [
       "<div>\n",
       "<style scoped>\n",
       "    .dataframe tbody tr th:only-of-type {\n",
       "        vertical-align: middle;\n",
       "    }\n",
       "\n",
       "    .dataframe tbody tr th {\n",
       "        vertical-align: top;\n",
       "    }\n",
       "\n",
       "    .dataframe thead th {\n",
       "        text-align: right;\n",
       "    }\n",
       "</style>\n",
       "<table border=\"1\" class=\"dataframe\">\n",
       "  <thead>\n",
       "    <tr style=\"text-align: right;\">\n",
       "      <th></th>\n",
       "      <th>White King file</th>\n",
       "      <th>White King rank</th>\n",
       "      <th>White Rook file</th>\n",
       "      <th>White Rook rank</th>\n",
       "      <th>Black King file</th>\n",
       "      <th>Black King rank</th>\n",
       "      <th>optimal depth-of-win for White</th>\n",
       "    </tr>\n",
       "  </thead>\n",
       "  <tbody>\n",
       "    <tr>\n",
       "      <th>0</th>\n",
       "      <td>a</td>\n",
       "      <td>1</td>\n",
       "      <td>b</td>\n",
       "      <td>3</td>\n",
       "      <td>c</td>\n",
       "      <td>2</td>\n",
       "      <td>draw</td>\n",
       "    </tr>\n",
       "    <tr>\n",
       "      <th>1</th>\n",
       "      <td>a</td>\n",
       "      <td>1</td>\n",
       "      <td>c</td>\n",
       "      <td>1</td>\n",
       "      <td>c</td>\n",
       "      <td>2</td>\n",
       "      <td>draw</td>\n",
       "    </tr>\n",
       "    <tr>\n",
       "      <th>2</th>\n",
       "      <td>a</td>\n",
       "      <td>1</td>\n",
       "      <td>c</td>\n",
       "      <td>1</td>\n",
       "      <td>d</td>\n",
       "      <td>1</td>\n",
       "      <td>draw</td>\n",
       "    </tr>\n",
       "    <tr>\n",
       "      <th>3</th>\n",
       "      <td>a</td>\n",
       "      <td>1</td>\n",
       "      <td>c</td>\n",
       "      <td>1</td>\n",
       "      <td>d</td>\n",
       "      <td>2</td>\n",
       "      <td>draw</td>\n",
       "    </tr>\n",
       "    <tr>\n",
       "      <th>4</th>\n",
       "      <td>a</td>\n",
       "      <td>1</td>\n",
       "      <td>c</td>\n",
       "      <td>2</td>\n",
       "      <td>c</td>\n",
       "      <td>1</td>\n",
       "      <td>draw</td>\n",
       "    </tr>\n",
       "  </tbody>\n",
       "</table>\n",
       "</div>"
      ],
      "text/plain": [
       "  White King file  White King rank White Rook file  White Rook rank  \\\n",
       "0               a                1               b                3   \n",
       "1               a                1               c                1   \n",
       "2               a                1               c                1   \n",
       "3               a                1               c                1   \n",
       "4               a                1               c                2   \n",
       "\n",
       "  Black King file  Black King rank optimal depth-of-win for White  \n",
       "0               c                2                           draw  \n",
       "1               c                2                           draw  \n",
       "2               d                1                           draw  \n",
       "3               d                2                           draw  \n",
       "4               c                1                           draw  "
      ]
     },
     "execution_count": 16,
     "metadata": {},
     "output_type": "execute_result"
    }
   ],
   "source": [
    "chess = pd.read_csv('krkopt.data',names=[\n",
    "    'White King file','White King rank','White Rook file',\n",
    "    'White Rook rank','Black King file','Black King rank','optimal depth-of-win for White'],)\n",
    "chess.head()"
   ]
  },
  {
   "cell_type": "code",
   "execution_count": 17,
   "metadata": {},
   "outputs": [
    {
     "name": "stdout",
     "output_type": "stream",
     "text": [
      "<class 'pandas.core.frame.DataFrame'>\n",
      "RangeIndex: 28056 entries, 0 to 28055\n",
      "Data columns (total 7 columns):\n",
      " #   Column                          Non-Null Count  Dtype \n",
      "---  ------                          --------------  ----- \n",
      " 0   White King file                 28056 non-null  object\n",
      " 1   White King rank                 28056 non-null  int64 \n",
      " 2   White Rook file                 28056 non-null  object\n",
      " 3   White Rook rank                 28056 non-null  int64 \n",
      " 4   Black King file                 28056 non-null  object\n",
      " 5   Black King rank                 28056 non-null  int64 \n",
      " 6   optimal depth-of-win for White  28056 non-null  object\n",
      "dtypes: int64(3), object(4)\n",
      "memory usage: 1.5+ MB\n"
     ]
    }
   ],
   "source": [
    "chess.info()"
   ]
  },
  {
   "cell_type": "code",
   "execution_count": 18,
   "metadata": {},
   "outputs": [
    {
     "data": {
      "text/html": [
       "<div>\n",
       "<style scoped>\n",
       "    .dataframe tbody tr th:only-of-type {\n",
       "        vertical-align: middle;\n",
       "    }\n",
       "\n",
       "    .dataframe tbody tr th {\n",
       "        vertical-align: top;\n",
       "    }\n",
       "\n",
       "    .dataframe thead th {\n",
       "        text-align: right;\n",
       "    }\n",
       "</style>\n",
       "<table border=\"1\" class=\"dataframe\">\n",
       "  <thead>\n",
       "    <tr style=\"text-align: right;\">\n",
       "      <th></th>\n",
       "      <th>White King file</th>\n",
       "      <th>White King rank</th>\n",
       "      <th>White Rook file</th>\n",
       "      <th>White Rook rank</th>\n",
       "      <th>Black King file</th>\n",
       "      <th>Black King rank</th>\n",
       "      <th>optimal depth-of-win for White</th>\n",
       "    </tr>\n",
       "  </thead>\n",
       "  <tbody>\n",
       "    <tr>\n",
       "      <th>0</th>\n",
       "      <td>0</td>\n",
       "      <td>1</td>\n",
       "      <td>1</td>\n",
       "      <td>3</td>\n",
       "      <td>2</td>\n",
       "      <td>2</td>\n",
       "      <td>0</td>\n",
       "    </tr>\n",
       "    <tr>\n",
       "      <th>1</th>\n",
       "      <td>0</td>\n",
       "      <td>1</td>\n",
       "      <td>2</td>\n",
       "      <td>1</td>\n",
       "      <td>2</td>\n",
       "      <td>2</td>\n",
       "      <td>0</td>\n",
       "    </tr>\n",
       "    <tr>\n",
       "      <th>2</th>\n",
       "      <td>0</td>\n",
       "      <td>1</td>\n",
       "      <td>2</td>\n",
       "      <td>1</td>\n",
       "      <td>3</td>\n",
       "      <td>1</td>\n",
       "      <td>0</td>\n",
       "    </tr>\n",
       "    <tr>\n",
       "      <th>3</th>\n",
       "      <td>0</td>\n",
       "      <td>1</td>\n",
       "      <td>2</td>\n",
       "      <td>1</td>\n",
       "      <td>3</td>\n",
       "      <td>2</td>\n",
       "      <td>0</td>\n",
       "    </tr>\n",
       "    <tr>\n",
       "      <th>4</th>\n",
       "      <td>0</td>\n",
       "      <td>1</td>\n",
       "      <td>2</td>\n",
       "      <td>2</td>\n",
       "      <td>2</td>\n",
       "      <td>1</td>\n",
       "      <td>0</td>\n",
       "    </tr>\n",
       "  </tbody>\n",
       "</table>\n",
       "</div>"
      ],
      "text/plain": [
       "   White King file  White King rank  White Rook file  White Rook rank  \\\n",
       "0                0                1                1                3   \n",
       "1                0                1                2                1   \n",
       "2                0                1                2                1   \n",
       "3                0                1                2                1   \n",
       "4                0                1                2                2   \n",
       "\n",
       "   Black King file  Black King rank  optimal depth-of-win for White  \n",
       "0                2                2                               0  \n",
       "1                2                2                               0  \n",
       "2                3                1                               0  \n",
       "3                3                2                               0  \n",
       "4                2                1                               0  "
      ]
     },
     "execution_count": 18,
     "metadata": {},
     "output_type": "execute_result"
    }
   ],
   "source": [
    "# Label encoding categorical columns\n",
    "from sklearn.preprocessing import LabelEncoder\n",
    "categorical_cols = ['White King file','White Rook file','Black King file','optimal depth-of-win for White']\n",
    "chess[categorical_cols] = chess[categorical_cols].apply(LabelEncoder().fit_transform)\n",
    "chess.head()"
   ]
  },
  {
   "cell_type": "code",
   "execution_count": 19,
   "metadata": {},
   "outputs": [],
   "source": [
    "# Setting predictor and target variables \n",
    "X = chess.drop('optimal depth-of-win for White',axis=1)\n",
    "y = chess['optimal depth-of-win for White']"
   ]
  },
  {
   "cell_type": "code",
   "execution_count": 20,
   "metadata": {},
   "outputs": [],
   "source": [
    "# Splitting data into training and testing set\n",
    "from sklearn.model_selection import train_test_split\n",
    "X_train, X_test, y_train, y_test = train_test_split(X,y,test_size=0.2,random_state=1)"
   ]
  },
  {
   "cell_type": "code",
   "execution_count": null,
   "metadata": {},
   "outputs": [
    {
     "data": {
      "text/plain": [
       "DecisionTreeClassifier()"
      ]
     },
     "execution_count": 21,
     "metadata": {},
     "output_type": "execute_result"
    }
   ],
   "source": [
    "# Instantiating Model\n",
    "from sklearn.ensemble import RandomForestClassifier\n",
    "rfc = RandomForestClassifier()\n",
    "# Fitting data\n",
    "rfc.fit(X_train,y_train)"
   ]
  },
  {
   "cell_type": "code",
   "execution_count": 22,
   "metadata": {},
   "outputs": [],
   "source": [
    "# Predicting Data\n",
    "y_pred = rfc.predict(X_test)"
   ]
  },
  {
   "cell_type": "code",
   "execution_count": 23,
   "metadata": {
    "scrolled": false
   },
   "outputs": [
    {
     "name": "stdout",
     "output_type": "stream",
     "text": [
      "Accurany Score: 0.8467569493941554\n",
      "Confusion Matrix:\n",
      " [[464   8  18  13   2   1  23   2   0   4   0   8  14  16   0  14   2   1]\n",
      " [  8 226   2   0   1   0   0  15   0   5   2   0   5   4   0   3   0   0]\n",
      " [  9   3 496   0   0   0   1   5   0   0   0   0  22   4   0  31   0   0]\n",
      " [ 11   0   0 382   0   0  34   0   0   0   0  10   0   2   0   0   0   0]\n",
      " [  0   0   1   1  74   0   0   1   0   1   2   0   0   0   0   0   0   0]\n",
      " [  1   1   0   0   0  39   0   0   0   0   0   0   0   0   2   0   0   0]\n",
      " [ 11   0   4  32   0   0 804   0   0   0   0   1   2  53   0   2   0   0]\n",
      " [  5  12  13   0   2   0   0 276   1   2   0   1  17   0   0   2   0   0]\n",
      " [  0   0   0   0   0   0   0   0  10   1   0   0   0   0   0   0   0   0]\n",
      " [  7  17   1   0   0   0   0   4   0 125   7   0   0   0   0   3   0   0]\n",
      " [  1   0   0   0   3   0   0   4   0   8 105   0   0   0   0   0   0   0]\n",
      " [  7   0   0   6   0   0   2   0   0   0   0  54   0   0   0   0   0   0]\n",
      " [  8   3  44   0   1   0   2  21   0   2   0   0 294   2   0   7   0   0]\n",
      " [ 16   1  11   2   0   0  48   0   0   0   0   0   0 729   0  31   0   0]\n",
      " [  0   0   0   0   0   1   0   0   0   0   0   0   0   0  13   0   1   0]\n",
      " [ 10   2  33   2   0   0  11   3   0   0   0   0   6  44   0 604   0   0]\n",
      " [  1   0   0   0   0   0   0   0   0   0   0   0   0   1   0   1  51   0]\n",
      " [  1   0   0   0   0   0   0   0   0   0   0   0   0   0   0   0   0   6]]\n",
      "Classification Report:\n",
      "               precision    recall  f1-score   support\n",
      "\n",
      "           0       0.83      0.79      0.81       590\n",
      "           1       0.83      0.83      0.83       271\n",
      "           2       0.80      0.87      0.83       571\n",
      "           3       0.87      0.87      0.87       439\n",
      "           4       0.89      0.93      0.91        80\n",
      "           5       0.95      0.91      0.93        43\n",
      "           6       0.87      0.88      0.88       909\n",
      "           7       0.83      0.83      0.83       331\n",
      "           8       0.91      0.91      0.91        11\n",
      "           9       0.84      0.76      0.80       164\n",
      "          10       0.91      0.87      0.89       121\n",
      "          11       0.73      0.78      0.76        69\n",
      "          12       0.82      0.77      0.79       384\n",
      "          13       0.85      0.87      0.86       838\n",
      "          14       0.87      0.87      0.87        15\n",
      "          15       0.87      0.84      0.85       715\n",
      "          16       0.94      0.94      0.94        54\n",
      "          17       0.86      0.86      0.86         7\n",
      "\n",
      "    accuracy                           0.85      5612\n",
      "   macro avg       0.86      0.85      0.86      5612\n",
      "weighted avg       0.85      0.85      0.85      5612\n",
      "\n"
     ]
    }
   ],
   "source": [
    "# Model evaluation \n",
    "from sklearn.metrics import accuracy_score,confusion_matrix,classification_report\n",
    "print('Accurany Score:',accuracy_score(y_test,y_pred))\n",
    "print('Confusion Matrix:\\n',confusion_matrix(y_test,y_pred))\n",
    "print('Classification Report:\\n',classification_report(y_test,y_pred))"
   ]
  },
  {
   "cell_type": "code",
   "execution_count": null,
   "metadata": {},
   "outputs": [],
   "source": []
  }
 ],
 "metadata": {
  "kernelspec": {
   "display_name": "Python 3",
   "language": "python",
   "name": "python3"
  },
  "language_info": {
   "codemirror_mode": {
    "name": "ipython",
    "version": 3
   },
   "file_extension": ".py",
   "mimetype": "text/x-python",
   "name": "python",
   "nbconvert_exporter": "python",
   "pygments_lexer": "ipython3",
   "version": "3.7.7"
  }
 },
 "nbformat": 4,
 "nbformat_minor": 4
}
