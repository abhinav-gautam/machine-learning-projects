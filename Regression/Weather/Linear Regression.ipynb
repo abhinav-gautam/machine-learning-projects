{
 "cells": [
  {
   "cell_type": "code",
   "execution_count": null,
   "metadata": {},
   "outputs": [],
   "source": [
    "# -*- coding: utf-8 -*-\n",
    "\"\"\"\n",
    "Created on Tue Sep 10 18:35:13 2019\n",
    "\n",
    "@author: abhinav\n",
    "\"\"\"\n",
    "#Linear Regression Model\n",
    "\n",
    "import pandas as pd\n",
    "import numpy as np\n",
    "import matplotlib.pyplot as plt\n",
    "import seaborn as seabornInstance\n",
    "from sklearn.model_selection import train_test_split\n",
    "from sklearn.linear_model import LinearRegression\n",
    "from sklearn import metrics\n",
    "\n",
    "dataset = pd.read_csv('weather.csv')\n",
    "print (dataset.shape)\n",
    "print (dataset.describe())\n",
    "\n",
    "dataset.plot(x='MinTemp', y='MaxTemp',style='o')\n",
    "plt.title('MinTemp vs MaxTemp')\n",
    "plt.xlabel('MinTemp')\n",
    "plt.ylabel('MaxTemp')\n",
    "\n",
    "#Average of MaxTemp\n",
    "plt.figure(figsize=(10,15))\n",
    "plt.tight_layout()\n",
    "seabornInstance.distplot(dataset['MaxTemp'])\n",
    "\n",
    "\n",
    "#Data Splicing\n",
    "X = dataset['MinTemp'].values.reshape(-1,1)\n",
    "y = dataset['MaxTemp'].values.reshape(-1,1)\n",
    "\n",
    "X_train,X_test,y_train,y_test = train_test_split(X,y,test_size=0.2,random_state=0)\n",
    "\n",
    "#Training the Model\n",
    "regressor = LinearRegression()\n",
    "regressor.fit(X_train,y_train)\n",
    "\n",
    "#Intercept and Coefficient\n",
    "print ('Intercept',regressor.intercept_)\n",
    "print ('Coefficient',regressor.coef_)\n",
    "\n",
    "#Predicting for X_test\n",
    "y_pred = regressor.predict(X_test)\n",
    "\n",
    "#Comparison Between Actual and Predicted\n",
    "df = pd.DataFrame({'Actual':y_test.flatten(),'Predicted':y_pred.flatten()})\n",
    "#df.to_excel('LinearRegressionResult.xlsx',sheet_name='Actual and Predicted')\n",
    "print (df)\n",
    "\n",
    "df1=df.head(25)\n",
    "df1.plot(kind='bar',figsize=(16,10))\n",
    "plt.grid(which='major',linestyle='-',linewidth='0.5', color='green')\n",
    "plt.grid(which='minor',linestyle=':',linewidth='0.5', color='black')\n",
    "plt.show()\n",
    "\n",
    "plt.scatter(X_test,y_test,color='grey')\n",
    "plt.plot(X_test,y_pred,linewidth=2)\n",
    "plt.show()\n",
    "\n",
    "#Performance\n",
    "print(\"Mean Absolute Error:\",metrics.mean_absolute_error(y_test,y_pred))\n",
    "print(\"Mean Squared Error:\",metrics.mean_squared_error(y_test,y_pred))\n",
    "print(\"Root Mean Squared Error:\",np.sqrt(metrics.mean_squared_error(y_test,y_pred)))"
   ]
  },
  {
   "cell_type": "code",
   "execution_count": 2,
   "metadata": {},
   "outputs": [],
   "source": [
    "import pickle"
   ]
  },
  {
   "cell_type": "code",
   "execution_count": 5,
   "metadata": {},
   "outputs": [],
   "source": [
    "pickle.dump(regressor, open('final_prediction.pickle', 'wb'))"
   ]
  },
  {
   "cell_type": "code",
   "execution_count": null,
   "metadata": {},
   "outputs": [],
   "source": []
  }
 ],
 "metadata": {
  "kernelspec": {
   "display_name": "Python 3",
   "language": "python",
   "name": "python3"
  },
  "language_info": {
   "codemirror_mode": {
    "name": "ipython",
    "version": 3
   },
   "file_extension": ".py",
   "mimetype": "text/x-python",
   "name": "python",
   "nbconvert_exporter": "python",
   "pygments_lexer": "ipython3",
   "version": "3.7.4"
  }
 },
 "nbformat": 4,
 "nbformat_minor": 2
}
